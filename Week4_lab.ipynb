{
 "cells": [
  {
   "cell_type": "markdown",
   "id": "d875684c",
   "metadata": {},
   "source": [
    "# My new notebook "
   ]
  },
  {
   "cell_type": "raw",
   "id": "dce83ece",
   "metadata": {},
   "source": [
    "## Problem 1: Find minimum and maximum values"
   ]
  },
  {
   "cell_type": "code",
   "execution_count": 3,
   "id": "aaf93816",
   "metadata": {},
   "outputs": [
    {
     "name": "stdout",
     "output_type": "stream",
     "text": [
      "5\n",
      "25\n"
     ]
    }
   ],
   "source": [
    "x = min(5,10,25)\n",
    "y = max(5,10,25)\n",
    "\n",
    "print(x)\n",
    "print(y)"
   ]
  },
  {
   "cell_type": "markdown",
   "id": "a3508f4c",
   "metadata": {},
   "source": [
    "## Fidn the value 4 to the power of 3"
   ]
  },
  {
   "cell_type": "code",
   "execution_count": 4,
   "id": "7be5ac7b",
   "metadata": {},
   "outputs": [
    {
     "name": "stdout",
     "output_type": "stream",
     "text": [
      "64\n"
     ]
    }
   ],
   "source": [
    "x = pow(4,3)\n",
    "\n",
    "print(x)"
   ]
  },
  {
   "cell_type": "code",
   "execution_count": null,
   "id": "b8a67078",
   "metadata": {},
   "outputs": [],
   "source": []
  }
 ],
 "metadata": {
  "kernelspec": {
   "display_name": "Python 3 (ipykernel)",
   "language": "python",
   "name": "python3"
  },
  "language_info": {
   "codemirror_mode": {
    "name": "ipython",
    "version": 3
   },
   "file_extension": ".py",
   "mimetype": "text/x-python",
   "name": "python",
   "nbconvert_exporter": "python",
   "pygments_lexer": "ipython3",
   "version": "3.9.13"
  }
 },
 "nbformat": 4,
 "nbformat_minor": 5
}
